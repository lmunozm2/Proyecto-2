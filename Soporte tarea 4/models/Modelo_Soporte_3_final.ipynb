{
 "cells": [
  {
   "cell_type": "markdown",
   "metadata": {},
   "source": [
    "## Cargar librerias y datos "
   ]
  },
  {
   "cell_type": "code",
   "execution_count": 1,
   "metadata": {},
   "outputs": [
    {
     "name": "stderr",
     "output_type": "stream",
     "text": [
      "C:\\Users\\angie\\AppData\\Local\\Temp\\ipykernel_18212\\210727464.py:1: DeprecationWarning: \n",
      "Pyarrow will become a required dependency of pandas in the next major release of pandas (pandas 3.0),\n",
      "(to allow more performant data types, such as the Arrow string type, and better interoperability with other libraries)\n",
      "but was not found to be installed on your system.\n",
      "If this would cause problems for you,\n",
      "please provide us feedback at https://github.com/pandas-dev/pandas/issues/54466\n",
      "        \n",
      "  import pandas as pd\n"
     ]
    },
    {
     "name": "stdout",
     "output_type": "stream",
     "text": [
      "WARNING:tensorflow:From c:\\Users\\angie\\AppData\\Local\\Programs\\Python\\Python311\\Lib\\site-packages\\keras\\src\\losses.py:2976: The name tf.losses.sparse_softmax_cross_entropy is deprecated. Please use tf.compat.v1.losses.sparse_softmax_cross_entropy instead.\n",
      "\n"
     ]
    }
   ],
   "source": [
    "import pandas as pd\n",
    "import tensorflow as tf\n",
    "from sklearn.model_selection import train_test_split\n",
    "from sklearn.ensemble import RandomForestClassifier\n",
    "from sklearn.metrics import accuracy_score\n",
    "from sklearn.preprocessing import StandardScaler"
   ]
  },
  {
   "cell_type": "code",
   "execution_count": 7,
   "metadata": {},
   "outputs": [],
   "source": [
    "df = pd.read_excel(r'C:\\Users\\angie\\OneDrive\\Desktop\\Octavo semestre\\Analitica computacional\\Proyecto 2 personal\\data2.xlsx')\n",
    "X = df[['X1','X2','X3','X4','X5','X6','X7','X8','X9','X10','X11','X18','X19','X20','X21','X22','X23']]\n",
    "y = df[\"Y\"]\n"
   ]
  },
  {
   "cell_type": "code",
   "execution_count": 8,
   "metadata": {},
   "outputs": [
    {
     "name": "stdout",
     "output_type": "stream",
     "text": [
      "           X1  X2  X3  X4  X5  X6  X7  X8  X9  X10  X11    X18    X19    X20  \\\n",
      "0       20000   2   2   1  24   2   2  -1  -1   -2   -2      0    689      0   \n",
      "1      120000   2   2   2  26  -1   2  -1  -1   -1    2      0   1000   1000   \n",
      "2       90000   2   2   2  34  -1  -1  -1  -1   -1   -1   1518   1500   1000   \n",
      "3       50000   2   2   1  37  -1  -1  -1  -1   -1   -1   2000   2019   1200   \n",
      "4       50000   1   2   1  57  -1  -1  -1  -1   -1   -1   2000  36681  10000   \n",
      "...       ...  ..  ..  ..  ..  ..  ..  ..  ..  ...  ...    ...    ...    ...   \n",
      "29995  220000   1   3   1  39  -1  -1  -1  -1   -1   -1   8500  20000   5003   \n",
      "29996  150000   1   3   2  43  -1  -1  -1  -1   -1   -1   1837   3526   8998   \n",
      "29997   30000   1   2   2  37   4   3   2  -1   -1   -1      0      0  22000   \n",
      "29998   80000   1   3   1  41   1  -1  -1  -1   -1   -1  85900   3409   1178   \n",
      "29999   50000   1   2   1  46  -1  -1  -1  -1   -1   -1   2078   1800   1430   \n",
      "\n",
      "        X21    X22   X23  \n",
      "0         0      0     0  \n",
      "1      1000      0  2000  \n",
      "2      1000   1000  5000  \n",
      "3      1100   1069  1000  \n",
      "4      9000    689   679  \n",
      "...     ...    ...   ...  \n",
      "29995  3047   5000  1000  \n",
      "29996   129      0     0  \n",
      "29997  4200   2000  3100  \n",
      "29998  1926  52964  1804  \n",
      "29999  1000   1000  1000  \n",
      "\n",
      "[30000 rows x 17 columns]\n"
     ]
    }
   ],
   "source": [
    "print(X)"
   ]
  },
  {
   "cell_type": "markdown",
   "metadata": {},
   "source": [
    "## Entrenamiento de datos "
   ]
  },
  {
   "cell_type": "code",
   "execution_count": 9,
   "metadata": {},
   "outputs": [],
   "source": [
    "X_train, X_test, y_train, y_test = train_test_split(\n",
    "    X,y, test_size=0.2, random_state=42)"
   ]
  },
  {
   "cell_type": "code",
   "execution_count": 10,
   "metadata": {},
   "outputs": [],
   "source": [
    "scaler = StandardScaler()\n",
    "X_train_scaled = scaler.fit_transform(X_train)\n",
    "X_test_scaled = scaler.transform(X_test)"
   ]
  },
  {
   "cell_type": "code",
   "execution_count": 11,
   "metadata": {},
   "outputs": [],
   "source": [
    "y_train_one_hot = tf.keras.utils.to_categorical(y_train)\n",
    "y_test_one_hot = tf.keras.utils.to_categorical(y_test)"
   ]
  },
  {
   "cell_type": "code",
   "execution_count": 12,
   "metadata": {},
   "outputs": [
    {
     "name": "stdout",
     "output_type": "stream",
     "text": [
      "WARNING:tensorflow:From c:\\Users\\angie\\AppData\\Local\\Programs\\Python\\Python311\\Lib\\site-packages\\keras\\src\\backend.py:277: The name tf.reset_default_graph is deprecated. Please use tf.compat.v1.reset_default_graph instead.\n",
      "\n"
     ]
    }
   ],
   "source": [
    "tf.keras.backend.clear_session()\n",
    "tf.random.set_seed(42)\n",
    "model = tf.keras.Sequential()\n",
    "model.add(tf.keras.layers.InputLayer(input_shape=(17,)))\n",
    "model.add(tf.keras.layers.Dense(15, activation=\"relu\"))\n",
    "model.add(tf.keras.layers.Dense(10, activation=\"relu\"))\n",
    "model.add(tf.keras.layers.Dense(9, activation=\"softmax\"))\n",
    "model.add(tf.keras.layers.Dense(5, activation=\"softmax\"))\n",
    "model.add(tf.keras.layers.Dense(2, activation=\"softmax\"))"
   ]
  },
  {
   "cell_type": "code",
   "execution_count": 13,
   "metadata": {},
   "outputs": [
    {
     "name": "stdout",
     "output_type": "stream",
     "text": [
      "WARNING:tensorflow:From c:\\Users\\angie\\AppData\\Local\\Programs\\Python\\Python311\\Lib\\site-packages\\keras\\src\\optimizers\\__init__.py:309: The name tf.train.Optimizer is deprecated. Please use tf.compat.v1.train.Optimizer instead.\n",
      "\n"
     ]
    }
   ],
   "source": [
    "model.compile(loss=\"categorical_crossentropy\",\n",
    "              optimizer=\"Adam\",\n",
    "              metrics=[\"accuracy\"])"
   ]
  },
  {
   "cell_type": "code",
   "execution_count": 14,
   "metadata": {},
   "outputs": [
    {
     "name": "stdout",
     "output_type": "stream",
     "text": [
      "Epoch 1/50\n",
      "WARNING:tensorflow:From c:\\Users\\angie\\AppData\\Local\\Programs\\Python\\Python311\\Lib\\site-packages\\keras\\src\\utils\\tf_utils.py:492: The name tf.ragged.RaggedTensorValue is deprecated. Please use tf.compat.v1.ragged.RaggedTensorValue instead.\n",
      "\n",
      "WARNING:tensorflow:From c:\\Users\\angie\\AppData\\Local\\Programs\\Python\\Python311\\Lib\\site-packages\\keras\\src\\engine\\base_layer_utils.py:384: The name tf.executing_eagerly_outside_functions is deprecated. Please use tf.compat.v1.executing_eagerly_outside_functions instead.\n",
      "\n",
      "750/750 [==============================] - 6s 2ms/step - loss: 0.5565 - accuracy: 0.7113 - val_loss: 0.4694 - val_accuracy: 0.7812\n",
      "Epoch 2/50\n",
      "750/750 [==============================] - 1s 2ms/step - loss: 0.4588 - accuracy: 0.7957 - val_loss: 0.4519 - val_accuracy: 0.8070\n",
      "Epoch 3/50\n",
      "750/750 [==============================] - 1s 2ms/step - loss: 0.4475 - accuracy: 0.8121 - val_loss: 0.4437 - val_accuracy: 0.8152\n",
      "Epoch 4/50\n",
      "750/750 [==============================] - 1s 2ms/step - loss: 0.4425 - accuracy: 0.8175 - val_loss: 0.4398 - val_accuracy: 0.8182\n",
      "Epoch 5/50\n",
      "750/750 [==============================] - 1s 2ms/step - loss: 0.4396 - accuracy: 0.8189 - val_loss: 0.4373 - val_accuracy: 0.8193\n",
      "Epoch 6/50\n",
      "750/750 [==============================] - 1s 2ms/step - loss: 0.4379 - accuracy: 0.8201 - val_loss: 0.4367 - val_accuracy: 0.8202\n",
      "Epoch 7/50\n",
      "750/750 [==============================] - 2s 2ms/step - loss: 0.4367 - accuracy: 0.8204 - val_loss: 0.4360 - val_accuracy: 0.8202\n",
      "Epoch 8/50\n",
      "750/750 [==============================] - 1s 2ms/step - loss: 0.4355 - accuracy: 0.8212 - val_loss: 0.4362 - val_accuracy: 0.8192\n",
      "Epoch 9/50\n",
      "750/750 [==============================] - 1s 2ms/step - loss: 0.4348 - accuracy: 0.8212 - val_loss: 0.4365 - val_accuracy: 0.8175\n",
      "Epoch 10/50\n",
      "750/750 [==============================] - 1s 2ms/step - loss: 0.4341 - accuracy: 0.8213 - val_loss: 0.4353 - val_accuracy: 0.8193\n",
      "Epoch 11/50\n",
      "750/750 [==============================] - 2s 2ms/step - loss: 0.4336 - accuracy: 0.8224 - val_loss: 0.4363 - val_accuracy: 0.8178\n",
      "Epoch 12/50\n",
      "750/750 [==============================] - 1s 2ms/step - loss: 0.4333 - accuracy: 0.8218 - val_loss: 0.4357 - val_accuracy: 0.8200\n",
      "Epoch 13/50\n",
      "750/750 [==============================] - 1s 2ms/step - loss: 0.4323 - accuracy: 0.8234 - val_loss: 0.4369 - val_accuracy: 0.8173\n",
      "Epoch 14/50\n",
      "750/750 [==============================] - 1s 2ms/step - loss: 0.4320 - accuracy: 0.8230 - val_loss: 0.4352 - val_accuracy: 0.8192\n",
      "Epoch 15/50\n",
      "750/750 [==============================] - 2s 2ms/step - loss: 0.4310 - accuracy: 0.8229 - val_loss: 0.4350 - val_accuracy: 0.8193\n",
      "Epoch 16/50\n",
      "750/750 [==============================] - 1s 2ms/step - loss: 0.4305 - accuracy: 0.8238 - val_loss: 0.4343 - val_accuracy: 0.8213\n",
      "Epoch 17/50\n",
      "750/750 [==============================] - 1s 2ms/step - loss: 0.4300 - accuracy: 0.8229 - val_loss: 0.4353 - val_accuracy: 0.8188\n",
      "Epoch 18/50\n",
      "750/750 [==============================] - 2s 2ms/step - loss: 0.4298 - accuracy: 0.8237 - val_loss: 0.4351 - val_accuracy: 0.8188\n",
      "Epoch 19/50\n",
      "750/750 [==============================] - 2s 2ms/step - loss: 0.4297 - accuracy: 0.8239 - val_loss: 0.4339 - val_accuracy: 0.8200\n",
      "Epoch 20/50\n",
      "750/750 [==============================] - 2s 2ms/step - loss: 0.4294 - accuracy: 0.8236 - val_loss: 0.4351 - val_accuracy: 0.8220\n",
      "Epoch 21/50\n",
      "750/750 [==============================] - 2s 2ms/step - loss: 0.4292 - accuracy: 0.8235 - val_loss: 0.4350 - val_accuracy: 0.8205\n",
      "Epoch 22/50\n",
      "750/750 [==============================] - 1s 2ms/step - loss: 0.4290 - accuracy: 0.8236 - val_loss: 0.4350 - val_accuracy: 0.8215\n",
      "Epoch 23/50\n",
      "750/750 [==============================] - 2s 2ms/step - loss: 0.4281 - accuracy: 0.8243 - val_loss: 0.4344 - val_accuracy: 0.8213\n",
      "Epoch 24/50\n",
      "750/750 [==============================] - 2s 2ms/step - loss: 0.4281 - accuracy: 0.8242 - val_loss: 0.4334 - val_accuracy: 0.8217\n",
      "Epoch 25/50\n",
      "750/750 [==============================] - 2s 2ms/step - loss: 0.4279 - accuracy: 0.8245 - val_loss: 0.4333 - val_accuracy: 0.8213\n",
      "Epoch 26/50\n",
      "750/750 [==============================] - 2s 2ms/step - loss: 0.4280 - accuracy: 0.8241 - val_loss: 0.4345 - val_accuracy: 0.8200\n",
      "Epoch 27/50\n",
      "750/750 [==============================] - 1s 2ms/step - loss: 0.4276 - accuracy: 0.8239 - val_loss: 0.4339 - val_accuracy: 0.8223\n",
      "Epoch 28/50\n",
      "750/750 [==============================] - 2s 2ms/step - loss: 0.4277 - accuracy: 0.8248 - val_loss: 0.4353 - val_accuracy: 0.8202\n",
      "Epoch 29/50\n",
      "750/750 [==============================] - 2s 2ms/step - loss: 0.4274 - accuracy: 0.8248 - val_loss: 0.4350 - val_accuracy: 0.8197\n",
      "Epoch 30/50\n",
      "750/750 [==============================] - 2s 2ms/step - loss: 0.4270 - accuracy: 0.8242 - val_loss: 0.4339 - val_accuracy: 0.8208\n",
      "Epoch 31/50\n",
      "750/750 [==============================] - 2s 2ms/step - loss: 0.4269 - accuracy: 0.8238 - val_loss: 0.4357 - val_accuracy: 0.8200\n",
      "Epoch 32/50\n",
      "750/750 [==============================] - 2s 2ms/step - loss: 0.4264 - accuracy: 0.8242 - val_loss: 0.4349 - val_accuracy: 0.8213\n",
      "Epoch 33/50\n",
      "750/750 [==============================] - 2s 2ms/step - loss: 0.4263 - accuracy: 0.8253 - val_loss: 0.4355 - val_accuracy: 0.8203\n",
      "Epoch 34/50\n",
      "750/750 [==============================] - 2s 2ms/step - loss: 0.4265 - accuracy: 0.8243 - val_loss: 0.4352 - val_accuracy: 0.8207\n",
      "Epoch 35/50\n",
      "750/750 [==============================] - 2s 3ms/step - loss: 0.4262 - accuracy: 0.8250 - val_loss: 0.4357 - val_accuracy: 0.8193\n",
      "Epoch 36/50\n",
      "750/750 [==============================] - 2s 3ms/step - loss: 0.4259 - accuracy: 0.8255 - val_loss: 0.4355 - val_accuracy: 0.8208\n",
      "Epoch 37/50\n",
      "750/750 [==============================] - 2s 3ms/step - loss: 0.4258 - accuracy: 0.8245 - val_loss: 0.4350 - val_accuracy: 0.8202\n",
      "Epoch 38/50\n",
      "750/750 [==============================] - 2s 3ms/step - loss: 0.4254 - accuracy: 0.8250 - val_loss: 0.4364 - val_accuracy: 0.8185\n",
      "Epoch 39/50\n",
      "750/750 [==============================] - 2s 3ms/step - loss: 0.4255 - accuracy: 0.8240 - val_loss: 0.4357 - val_accuracy: 0.8183\n",
      "Epoch 40/50\n",
      "750/750 [==============================] - 2s 3ms/step - loss: 0.4252 - accuracy: 0.8251 - val_loss: 0.4368 - val_accuracy: 0.8205\n",
      "Epoch 41/50\n",
      "750/750 [==============================] - 2s 2ms/step - loss: 0.4254 - accuracy: 0.8260 - val_loss: 0.4354 - val_accuracy: 0.8205\n",
      "Epoch 42/50\n",
      "750/750 [==============================] - 2s 2ms/step - loss: 0.4250 - accuracy: 0.8242 - val_loss: 0.4347 - val_accuracy: 0.8183\n",
      "Epoch 43/50\n",
      "750/750 [==============================] - 2s 2ms/step - loss: 0.4248 - accuracy: 0.8258 - val_loss: 0.4373 - val_accuracy: 0.8158\n",
      "Epoch 44/50\n",
      "750/750 [==============================] - 2s 2ms/step - loss: 0.4248 - accuracy: 0.8246 - val_loss: 0.4358 - val_accuracy: 0.8195\n",
      "Epoch 45/50\n",
      "750/750 [==============================] - 2s 3ms/step - loss: 0.4244 - accuracy: 0.8246 - val_loss: 0.4378 - val_accuracy: 0.8165\n",
      "Epoch 46/50\n",
      "750/750 [==============================] - 2s 3ms/step - loss: 0.4248 - accuracy: 0.8253 - val_loss: 0.4361 - val_accuracy: 0.8198\n",
      "Epoch 47/50\n",
      "750/750 [==============================] - 2s 3ms/step - loss: 0.4245 - accuracy: 0.8250 - val_loss: 0.4359 - val_accuracy: 0.8183\n",
      "Epoch 48/50\n",
      "750/750 [==============================] - 2s 2ms/step - loss: 0.4243 - accuracy: 0.8256 - val_loss: 0.4357 - val_accuracy: 0.8210\n",
      "Epoch 49/50\n",
      "750/750 [==============================] - 2s 3ms/step - loss: 0.4239 - accuracy: 0.8259 - val_loss: 0.4367 - val_accuracy: 0.8195\n",
      "Epoch 50/50\n",
      "750/750 [==============================] - 2s 2ms/step - loss: 0.4239 - accuracy: 0.8255 - val_loss: 0.4365 - val_accuracy: 0.8185\n"
     ]
    }
   ],
   "source": [
    "history = model.fit(X_train_scaled, y_train_one_hot, epochs=50, \n",
    "                    validation_data=(X_test_scaled, y_test_one_hot))"
   ]
  },
  {
   "cell_type": "markdown",
   "metadata": {},
   "source": [
    "## Grafica de metricas "
   ]
  },
  {
   "cell_type": "code",
   "execution_count": 15,
   "metadata": {},
   "outputs": [
    {
     "data": {
      "image/png": "[encoded data removed]",
      "text/plain": [
       "<Figure size 1200x600 with 2 Axes>"
      ]
     },
     "metadata": {},
     "output_type": "display_data"
    }
   ],
   "source": [
    "import matplotlib.pyplot as plt\n",
    "\n",
    "# Obtener la pérdida y la precisión del entrenamiento y la validación desde history\n",
    "train_loss = history.history['loss']\n",
    "val_loss = history.history['val_loss']\n",
    "train_acc = history.history['accuracy']\n",
    "val_acc = history.history['val_accuracy']\n",
    "\n",
    "# Crear gráficos\n",
    "plt.figure(figsize=(12, 6))\n",
    "\n",
    "# Gráfico de pérdida\n",
    "plt.subplot(1, 2, 1)\n",
    "plt.plot(train_loss, label='Train Loss', color='blue')\n",
    "plt.plot(val_loss, label='Validation Loss', color='red')\n",
    "plt.title('Training and Validation Loss')\n",
    "plt.xlabel('Epoch')\n",
    "plt.ylabel('Loss')\n",
    "plt.legend()\n",
    "\n",
    "# Gráfico de precisión\n",
    "plt.subplot(1, 2, 2)\n",
    "plt.plot(train_acc, label='Train Accuracy', color='blue')\n",
    "plt.plot(val_acc, label='Validation Accuracy', color='red')\n",
    "plt.title('Training and Validation Accuracy')\n",
    "plt.xlabel('Epoch')\n",
    "plt.ylabel('Accuracy')\n",
    "plt.legend()\n",
    "\n",
    "plt.tight_layout()\n",
    "plt.show()"
   ]
  },
  {
   "cell_type": "code",
   "execution_count": 17,
   "metadata": {},
   "outputs": [],
   "source": [
    "model.save(\"modelo.keras\")"
   ]
  },
  {
   "cell_type": "markdown",
   "metadata": {},
   "source": [
    "## Predicción del modelo"
   ]
  },
  {
   "cell_type": "code",
   "execution_count": 16,
   "metadata": {},
   "outputs": [
    {
     "name": "stderr",
     "output_type": "stream",
     "text": [
      "c:\\Users\\angie\\AppData\\Local\\Programs\\Python\\Python311\\Lib\\site-packages\\sklearn\\base.py:493: UserWarning: X does not have valid feature names, but StandardScaler was fitted with feature names\n",
      "  warnings.warn(\n"
     ]
    },
    {
     "name": "stdout",
     "output_type": "stream",
     "text": [
      "1/1 [==============================] - 0s 177ms/step\n",
      "Predicción: 1\n"
     ]
    }
   ],
   "source": [
    "import numpy as np\n",
    "\n",
    "# datos de la 1 fila para comprobar \n",
    "datos = np.array([[10000, 2, 2,2,34,0,0,0,0,0,0,1518,1500,1000,1000,1000,5000]])\n",
    "\n",
    "# Escalar los datos\n",
    "datos_scaled = scaler.transform(datos)\n",
    "\n",
    "# Predicción de los datos\n",
    "prediction = model.predict(datos)\n",
    "\n",
    "# Un umbral para la predicción binaria\n",
    "threshold = 0.5\n",
    "\n",
    "# Obtener la probabilidad predicha\n",
    "predicted_probability = prediction[0, 1]  \n",
    "\n",
    "# Aplicar el umbral para obtener la predicción binaria\n",
    "binary_prediction = 1 if predicted_probability > threshold else 0\n",
    "\n",
    "# Mostrar la predicción binaria\n",
    "print(\"Predicción:\", binary_prediction)\n"
   ]
  },
  {
   "cell_type": "code",
   "execution_count": 3,
   "metadata": {},
   "outputs": [],
   "source": [
    " import psycopg2\n",
    " engine = psycopg2.connect(\n",
    " dbname=\"postgres\",\n",
    " user=\"postgres\",\n",
    " password=\"proyecto2\",\n",
    " host=\"proyecto.c5ak6w0igl7a.us-east-1.rds.amazonaws.com\",\n",
    " port=5432\n",
    " )\n",
    " "
   ]
  },
  {
   "cell_type": "code",
   "execution_count": 4,
   "metadata": {},
   "outputs": [],
   "source": [
    "cursor = engine.cursor()"
   ]
  },
  {
   "cell_type": "code",
   "execution_count": 5,
   "metadata": {},
   "outputs": [
    {
     "data": {
      "text/plain": [
       "[]"
      ]
     },
     "execution_count": 5,
     "metadata": {},
     "output_type": "execute_result"
    }
   ],
   "source": [
    "query = \"\"\"\n",
    "SELECT * \n",
    "FROM pg_catalog.pg_tables \n",
    "WHERE schemaname='public';\"\"\"\n",
    "cursor.execute(query)\n",
    "result = cursor.fetchall()\n",
    "result"
   ]
  }
 ],
 "metadata": {
  "kernelspec": {
   "display_name": "Python 3",
   "language": "python",
   "name": "python3"
  },
  "language_info": {
   "codemirror_mode": {
    "name": "ipython",
    "version": 3
   },
   "file_extension": ".py",
   "mimetype": "text/x-python",
   "name": "python",
   "nbconvert_exporter": "python",
   "pygments_lexer": "ipython3",
   "version": "3.11.7"
  }
 },
 "nbformat": 4,
 "nbformat_minor": 2
}
